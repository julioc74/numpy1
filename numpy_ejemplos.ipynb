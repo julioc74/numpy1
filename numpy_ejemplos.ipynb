{
 "cells": [
  {
   "cell_type": "code",
   "execution_count": null,
   "metadata": {},
   "outputs": [],
   "source": [
    "import numpy as np\n",
    "a = np.array([1, 2, 3, 4, 5])\n",
    "a\n",
    "\n",
    "# array([1, 2, 3, 4, 5])\n",
    "# Arrays de 1 dimension (1D) \n",
    "# 1) Metodos\n",
    "np.zeros(3)  #array([0., 0., 0.]) crea un array lleno de ceros; en este caso de 3 ceros\n",
    "\n",
    "np.ones(4)  #array([1., 1., 1., 1.]) crea un array lleno de unos; en este caso de 4 unos.\n",
    "\n",
    "np.eye(3)  # crea una matriz identidad de 3 x 3 \n",
    "\n",
    "# 2) Acceso y slicing\n",
    "arreglo = np.array([2,4,6,8,10,12])\n",
    "arreglo[1] # accede al elemento en la posicion del indice especificado en este caso del indice = 1...   4\n",
    "arreglo[2:4] # nos devuelve un segmento de elementos, en este caso... array([6, 8]) \n",
    "arreglo[::-1] # nos devuelve el orden invertido de los elementos en este caso... array([12, 10, 8, 6, 4, 2])\n",
    "\n",
    "# 3) Operaciones matematicas\n",
    "valor = 5\n",
    "arreglo + valor # suma la cantidad de la variable valor a cada elemento... array([7, 9, 11, 13, 15, 17]) \n",
    "arreglo - valor # resta la cantidad de la variable valor a cada elemento... array([-3, -1, 1, 3, 5, 7])\n",
    "arreglo * valor # multiplica la cantidad de la variable valor a cada elemento... array([10, 20, 30, 40, 50, 60])\n",
    "arreglo / valor # divide la cantidad de la variable valor a cada elemento... array([0.4, 0.8, 1.2, 1.6, 2. ,2.4])\n",
    "np.sum(arreglo) # suma todos los elementos del array... 42 \n",
    "np.mean(arreglo) # calcula el promedio de los elementos... 7.0\n",
    "\n",
    "# 4) Funciones universales(ufuncs), que ofrece una amplia variedad de funciones universales que operan elemento\n",
    "       # por elemento en un array \n",
    "np.sin(arreglo)  # nos da el seno de cada valor del array... array([0.90.., -0.75.., -0.27.., 0.98.., -0.54.., -0.53]) \n",
    "np.exp(arreglo)  # nos da el exponencial de cada elemento.. array([7.38..e+00, 5.45..e+01, ..... 1.62..e+05]) \n",
    "np.sqrt(arreglo)  # nos da la raiz cuadrada de cada elemento... array([1.41.., 2.  , 2.44.., 2.82.., 3.16.., 3.46..  ]) \n",
    "\n",
    "# 5) Funciones de agregacion\n",
    "np.min(arreglo) # nos da el minimo valor del array... 2\n",
    "np.max(arreglo) # nos da el maximo valor del array...  12\n",
    "np.argmin(arreglo) # nos da el indice del valor minimo... 0\n",
    "np.argmax(arreglo) # nos da el indice del valor maximo... 5\n",
    "\n",
    "# 6) Funciones de busqueda y filtrado\n",
    "np.where(arreglo > 4) # nos da el valor de los indices en donde se cumple la condicion pedida\n",
    "                            # ...array([2, 3, 4, 5], dtype=int64)\n",
    "arreglo[arreglo > 4]  # filtra elementos basados en una condicion, en este caso los elementos que sean mayor que 4\n",
    "                            # ...array([6, 8, 10, 12])\n",
    "                            \n",
    "np.take(arreglo, [0, 2]) # extrae elementos de un array segun los indices dados ... array([2,6])  \n",
    "                            \n",
    "vector = [7, 3, 9, 1, 2, 8] \n",
    "vector2 = [1, 4, 0, 2, 2, 5]\n",
    "# 7) Funciones de manipulacion de datos:\n",
    "np.sort(vector)  # ordena los elementos en orden ascendente... array([1, 2, 3, 7, 8, 9])\n",
    "np.argsort(vector)  # obtiene los indices que ordenarian el array... array([3, 4, 1, 0, 5, 2], dtype=int64)\n",
    "np.unique(vector)  # obtiene valores unicos en el array... array([1, 2, 3, 7, 8, 9])\n",
    "np.dot(vector, vector2) # obtiene el producto escalar de dos vectores\n",
    "\n",
    "arr = np.array([[1, 2], [3, 4]])\n",
    "np.ravel(arr)  # con np.ravel() aplana un array a una dimension ...array[1, 2, 3, 4]\n",
    "\n",
    "a = np.array([[1, 2], [3, 4]])\n",
    "b = np.array([[5, 6]])\n",
    "np.concatenate((a, b), axis=0)  # concatena dos arrays a lo largo de un eje, en este caso une a y b por filas\n",
    "\n",
    "# 8) Reduccion y acumulacion:\n",
    "np.cumsum(vector)  # calcula la suma acumulativa... array([7, 10, 19, 20, 22, 30])\n",
    "np.cumprod(vector)  # calcula el producto acumulativo... array([7, 21, 189, 189, 378, 3024]) \n",
    "\n",
    "# 9) Funciones de estadisticas:\n",
    "np.mean(vector)  # calcula la media... 5.0\n",
    "np.median(vector)  # calcula la mediana... 5.0\n",
    "np.std(vector)  # calcula la desviacion estandar... 3.1091263510296048\n",
    "np.var(vector)  # calcula la varianza... 9.666666666666666\n",
    "\n",
    "# 10) Otras funciones importantes:\n",
    "np.arange(8)  # crea un array de 8 elementos desde el 0 hasta el 7... array([0, 1, 2, 3, 4, 5, 6, 7])\n",
    "np.arange(5, 10)  # crea un array desde el numero 5 hasta el 9... array([5, 6, 7, 8, 9])\n",
    "np.arange(2, 15, 3)  # crea un array desde el numero 2 hasta el 14 de 3 en 3... array([2, 5, 8, 11, 14])\n",
    "np.arange(3, 4, 0.2) # crea un array desde el 3 hasta 3.8 de 0.2 en 0.2... array([3. , 3.2, 3.4, 3.6, 3.8])\n",
    "\n",
    "np.linspace(2, 5, 3)  # crea un array de entre el 2 y el 5 de 3 elementos... array([2. , 3.5, 5. ])\n",
    "np.linspace(4, 12, 5)  # crea un array entre el 4 y el 12 de 5 elementos... array([4., 6., 8., 10., 12. ])\n",
    "\n",
    "np.random.rand(3, 4) # crea un array de numeros aleatorios de 3 filas por 4 columnas\n",
    "np.random.randn(4) # crea un array de 4 numeros aleatorios de una distribucion normal\n",
    "np.random.randint(1, 100, 10) # genera 10 numeros aleatorios entre el 1 y el 100"
   ]
  },
  {
   "cell_type": "code",
   "execution_count": 4,
   "metadata": {},
   "outputs": [
    {
     "data": {
      "text/plain": [
       "array([1., 1., 1., 1.])"
      ]
     },
     "execution_count": 4,
     "metadata": {},
     "output_type": "execute_result"
    }
   ],
   "source": [
    "#array([1., 1., 1., 1.]) crea un array lleno de unos; en este caso de 4 unos.\n",
    "\n",
    "np.ones(4)"
   ]
  },
  {
   "cell_type": "markdown",
   "metadata": {},
   "source": [
    "2) Acceso y slicing"
   ]
  },
  {
   "cell_type": "code",
   "execution_count": 5,
   "metadata": {},
   "outputs": [
    {
     "data": {
      "text/plain": [
       "4"
      ]
     },
     "execution_count": 5,
     "metadata": {},
     "output_type": "execute_result"
    }
   ],
   "source": [
    "arreglo = np.array([2,4,6,8,10,12])\n",
    "\n",
    "# Accede al elemento en la posicion del indice especificado en este caso del indice = 1\n",
    "\n",
    "arreglo[1]"
   ]
  },
  {
   "cell_type": "code",
   "execution_count": 6,
   "metadata": {},
   "outputs": [
    {
     "data": {
      "text/plain": [
       "array([6, 8])"
      ]
     },
     "execution_count": 6,
     "metadata": {},
     "output_type": "execute_result"
    }
   ],
   "source": [
    "# Nos devuelve un segmento de elementos, desde el indice 2 al indice 3\n",
    "\n",
    "arreglo[2:4]"
   ]
  },
  {
   "cell_type": "code",
   "execution_count": 7,
   "metadata": {},
   "outputs": [
    {
     "data": {
      "text/plain": [
       "array([12, 10,  8,  6,  4,  2])"
      ]
     },
     "execution_count": 7,
     "metadata": {},
     "output_type": "execute_result"
    }
   ],
   "source": [
    " # Nos devuelve el mismo array con el orden invertido de los elementos\n",
    "\n",
    "arreglo[::-1]"
   ]
  },
  {
   "cell_type": "markdown",
   "metadata": {},
   "source": [
    "3) Operaciones matematicas"
   ]
  },
  {
   "cell_type": "code",
   "execution_count": 8,
   "metadata": {},
   "outputs": [
    {
     "data": {
      "text/plain": [
       "array([ 7,  9, 11, 13, 15, 17])"
      ]
     },
     "execution_count": 8,
     "metadata": {},
     "output_type": "execute_result"
    }
   ],
   "source": [
    "valor = 5\n",
    "\n",
    "# Suma la cantidad de la variable valor a cada elemento del array arreglo\n",
    "# Recordemos que: arreglo = np.array([2,4,6,8,10,12]) \n",
    "\n",
    "arreglo + valor"
   ]
  },
  {
   "cell_type": "code",
   "execution_count": 8,
   "metadata": {},
   "outputs": [
    {
     "data": {
      "text/plain": [
       "array([-3, -1,  1,  3,  5,  7])"
      ]
     },
     "execution_count": 8,
     "metadata": {},
     "output_type": "execute_result"
    }
   ],
   "source": [
    "# Resta la cantidad de la variable valor a cada elemento del arreglo\n",
    "\n",
    "arreglo - valor"
   ]
  },
  {
   "cell_type": "code",
   "execution_count": 9,
   "metadata": {},
   "outputs": [
    {
     "data": {
      "text/plain": [
       "array([10, 20, 30, 40, 50, 60])"
      ]
     },
     "execution_count": 9,
     "metadata": {},
     "output_type": "execute_result"
    }
   ],
   "source": [
    "# Multiplica la cantidad de la variable valor a cada elemento del arreglo\n",
    "\n",
    "arreglo * valor"
   ]
  },
  {
   "cell_type": "code",
   "execution_count": 10,
   "metadata": {},
   "outputs": [
    {
     "data": {
      "text/plain": [
       "array([0.4, 0.8, 1.2, 1.6, 2. , 2.4])"
      ]
     },
     "execution_count": 10,
     "metadata": {},
     "output_type": "execute_result"
    }
   ],
   "source": [
    "# Divide la cantidad de la variable valor a cada elemento del arreglo\n",
    "\n",
    "arreglo / valor"
   ]
  },
  {
   "cell_type": "code",
   "execution_count": 11,
   "metadata": {},
   "outputs": [
    {
     "data": {
      "text/plain": [
       "42"
      ]
     },
     "execution_count": 11,
     "metadata": {},
     "output_type": "execute_result"
    }
   ],
   "source": [
    "# Suma todos los elementos del array arreglo\n",
    "\n",
    "np.sum(arreglo)"
   ]
  },
  {
   "cell_type": "code",
   "execution_count": 13,
   "metadata": {},
   "outputs": [
    {
     "data": {
      "text/plain": [
       "46080"
      ]
     },
     "execution_count": 13,
     "metadata": {},
     "output_type": "execute_result"
    }
   ],
   "source": [
    "# Obtiene el producto de todos los elementos del arreglo\n",
    "\n",
    "np.prod(arreglo)"
   ]
  },
  {
   "cell_type": "markdown",
   "metadata": {},
   "source": [
    "4) Funciones matematicas universales"
   ]
  },
  {
   "cell_type": "code",
   "execution_count": 14,
   "metadata": {},
   "outputs": [
    {
     "data": {
      "text/plain": [
       "array([ 0.90929743, -0.7568025 , -0.2794155 ,  0.98935825, -0.54402111,\n",
       "       -0.53657292])"
      ]
     },
     "execution_count": 14,
     "metadata": {},
     "output_type": "execute_result"
    }
   ],
   "source": [
    "np.sin(arreglo)"
   ]
  },
  {
   "cell_type": "code",
   "execution_count": 15,
   "metadata": {},
   "outputs": [
    {
     "data": {
      "text/plain": [
       "array([1.41421356, 2.        , 2.44948974, 2.82842712, 3.16227766,\n",
       "       3.46410162])"
      ]
     },
     "execution_count": 15,
     "metadata": {},
     "output_type": "execute_result"
    }
   ],
   "source": [
    "np.sqrt(arreglo)"
   ]
  },
  {
   "cell_type": "markdown",
   "metadata": {},
   "source": [
    "5) Otras funciones"
   ]
  },
  {
   "cell_type": "code",
   "execution_count": 18,
   "metadata": {},
   "outputs": [
    {
     "data": {
      "text/plain": [
       "2"
      ]
     },
     "execution_count": 18,
     "metadata": {},
     "output_type": "execute_result"
    }
   ],
   "source": [
    "valores = np.array([7,2,9,5,12,3,8])\n",
    "\n",
    "np.min(valores)"
   ]
  },
  {
   "cell_type": "code",
   "execution_count": 19,
   "metadata": {},
   "outputs": [
    {
     "data": {
      "text/plain": [
       "12"
      ]
     },
     "execution_count": 19,
     "metadata": {},
     "output_type": "execute_result"
    }
   ],
   "source": [
    "np.max(valores)"
   ]
  },
  {
   "cell_type": "code",
   "execution_count": 20,
   "metadata": {},
   "outputs": [
    {
     "data": {
      "text/plain": [
       "1"
      ]
     },
     "execution_count": 20,
     "metadata": {},
     "output_type": "execute_result"
    }
   ],
   "source": [
    "np.argmin(valores)"
   ]
  },
  {
   "cell_type": "code",
   "execution_count": 21,
   "metadata": {},
   "outputs": [
    {
     "data": {
      "text/plain": [
       "4"
      ]
     },
     "execution_count": 21,
     "metadata": {},
     "output_type": "execute_result"
    }
   ],
   "source": [
    "np.argmax(valores)"
   ]
  },
  {
   "cell_type": "code",
   "execution_count": 2,
   "metadata": {},
   "outputs": [
    {
     "data": {
      "text/plain": [
       "array([[ 9, 12, 10,  9,  2],\n",
       "       [12, 11,  3,  8, 17],\n",
       "       [ 7,  1,  1, 18, 16],\n",
       "       [12,  6,  1, 17,  2],\n",
       "       [19, 19, 15, 18, 17],\n",
       "       [ 3,  7, 11,  5, 19],\n",
       "       [19,  3,  3, 14, 15],\n",
       "       [ 2,  2,  8, 17, 16]])"
      ]
     },
     "execution_count": 2,
     "metadata": {},
     "output_type": "execute_result"
    }
   ],
   "source": [
    "import numpy as np\n",
    "\n",
    "arreglo_random = np.random.randint(1, 21, size=(8, 5))\n",
    "arreglo_random"
   ]
  },
  {
   "cell_type": "markdown",
   "metadata": {},
   "source": [
    "Referencia youtube: \"El tutorial más importante sobre NumPy\" \n",
    "                canal: A2 Ciencia de Datos min 32' 35''\n",
    "\n",
    "Selecciona el cuarto valor en el segundo array del arreglo_random"
   ]
  },
  {
   "cell_type": "code",
   "execution_count": 3,
   "metadata": {},
   "outputs": [
    {
     "data": {
      "text/plain": [
       "11"
      ]
     },
     "execution_count": 3,
     "metadata": {},
     "output_type": "execute_result"
    }
   ],
   "source": [
    "arreglo_random[1, 3]"
   ]
  },
  {
   "cell_type": "markdown",
   "metadata": {},
   "source": [
    "Selecciona el segundo valor en los arrays con indice 3, 4, 5 del arreglo_random"
   ]
  },
  {
   "cell_type": "code",
   "execution_count": 4,
   "metadata": {},
   "outputs": [
    {
     "data": {
      "text/plain": [
       "array([9, 8, 7])"
      ]
     },
     "execution_count": 4,
     "metadata": {},
     "output_type": "execute_result"
    }
   ],
   "source": [
    "arreglo_random[3:6,1]"
   ]
  },
  {
   "cell_type": "markdown",
   "metadata": {},
   "source": [
    "Selecciona los tres primeros valores de los arrays con indice 4, 5, 6 del arreglo_random "
   ]
  },
  {
   "cell_type": "code",
   "execution_count": 5,
   "metadata": {},
   "outputs": [
    {
     "data": {
      "text/plain": [
       "array([[20,  8, 18],\n",
       "       [15,  7,  3],\n",
       "       [11,  6, 15]])"
      ]
     },
     "execution_count": 5,
     "metadata": {},
     "output_type": "execute_result"
    }
   ],
   "source": [
    "arreglo_random[4:7, :3]"
   ]
  }
 ],
 "metadata": {
  "kernelspec": {
   "display_name": "Python 3",
   "language": "python",
   "name": "python3"
  },
  "language_info": {
   "codemirror_mode": {
    "name": "ipython",
    "version": 3
   },
   "file_extension": ".py",
   "mimetype": "text/x-python",
   "name": "python",
   "nbconvert_exporter": "python",
   "pygments_lexer": "ipython3",
   "version": "3.10.7"
  },
  "orig_nbformat": 4
 },
 "nbformat": 4,
 "nbformat_minor": 2
}
